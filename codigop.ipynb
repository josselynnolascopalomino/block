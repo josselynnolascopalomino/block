{
  "cells": [
    {
      "cell_type": "code",
      "execution_count": null,
      "id": "a6ac9354",
      "metadata": {
        "id": "a6ac9354",
        "outputId": "34da5b63-ce01-4668-db8a-9f5332e9d20a"
      },
      "outputs": [
        {
          "name": "stdout",
          "output_type": "stream",
          "text": [
            "6\n"
          ]
        }
      ],
      "source": [
        "x=2\n",
        "y=4\n",
        "print(x+y)"
      ]
    },
    {
      "cell_type": "code",
      "execution_count": null,
      "id": "02647b33",
      "metadata": {
        "id": "02647b33"
      },
      "outputs": [],
      "source": []
    },
    {
      "cell_type": "markdown",
      "source": [
        "PROBANDO EN GOOGLE COLAB\n"
      ],
      "metadata": {
        "id": "mguios1phgdM"
      },
      "id": "mguios1phgdM"
    }
  ],
  "metadata": {
    "kernelspec": {
      "display_name": "Python 3 (ipykernel)",
      "language": "python",
      "name": "python3"
    },
    "language_info": {
      "codemirror_mode": {
        "name": "ipython",
        "version": 3
      },
      "file_extension": ".py",
      "mimetype": "text/x-python",
      "name": "python",
      "nbconvert_exporter": "python",
      "pygments_lexer": "ipython3",
      "version": "3.9.13"
    },
    "colab": {
      "provenance": []
    }
  },
  "nbformat": 4,
  "nbformat_minor": 5
}