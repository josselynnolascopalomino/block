{
 "cells": [
  {
   "cell_type": "markdown",
   "id": "5508dcf4",
   "metadata": {},
   "source": [
    "# Trabajando con listas\n",
    "**Media**  \n",
    "Se puede interpretar la media como el centro de gravedad de la función probabilidad. La media tenderá a encontrarse más cerca de los resultados más probables del experimento aleatorio.  \n",
    "\n",
    "**Varianza**  \n",
    "La varianza da una idea de la variación de los resultados respecto al valor medio.  \n"
   ]
  },
  {
   "cell_type": "code",
   "execution_count": null,
   "id": "777fd168",
   "metadata": {},
   "outputs": [],
   "source": [
    "A = [5.2,5.8,5.9]\n",
    "## Recordemos funciones para trabajar listas\n",
    "print(type(A))#tipo de A\n",
    "print(len(A))#lonfgitud de A\n",
    "print(A)\n",
    "A.append(10.9)#agrega un elemento \n",
    "print(A)\n",
    "print(len(A))\n",
    "A = [5.2,5.8,5.9,15.6,8.975]\n",
    "A.count(5.2)\n",
    "B=A.copy()\n",
    "print(A)\n",
    "print(B)\n",
    "print(id(B))\n",
    "print(id(A))\n",
    "C=[2,3,6]\n",
    "A.extend(C)\n",
    "print(id(A))\n",
    "id(5)"
   ]
  },
  {
   "cell_type": "code",
   "execution_count": null,
   "id": "98a3257c",
   "metadata": {},
   "outputs": [],
   "source": [
    "import numpy as np\n",
    "\n",
    "A = [5.2,5.8,5.9]\n",
    "Ar = np.array(A)\n",
    "print(Ar)\n",
    "sum(Ar)\n",
    "media = np.mean(Ar)\n",
    "print(media)\n",
    "varianza = np.var(Ar)\n",
    "print(varianza)\n",
    "B = np.array([[1, 2, 3], [4, 5, 6]])\n",
    "print(B)\n",
    "print(np.mean(B[0]))\n",
    "print(np.mean(B,axis=1))\n",
    "print(np.mean(B,axis=0))\n",
    "print(B.mean(axis=1))#columna\n",
    "print(B.mean(axis=0))#fila\n",
    "print(B[:,0].mean())                        "
   ]
  }
 ],
 "metadata": {
  "kernelspec": {
   "display_name": "Python 3 (ipykernel)",
   "language": "python",
   "name": "python3"
  },
  "language_info": {
   "codemirror_mode": {
    "name": "ipython",
    "version": 3
   },
   "file_extension": ".py",
   "mimetype": "text/x-python",
   "name": "python",
   "nbconvert_exporter": "python",
   "pygments_lexer": "ipython3",
   "version": "3.9.13"
  }
 },
 "nbformat": 4,
 "nbformat_minor": 5
}

#agregando comentario
